{
 "cells": [
  {
   "cell_type": "markdown",
   "id": "4e52f9f6-ee80-47c9-a0db-ce05e593aad6",
   "metadata": {
    "tags": []
   },
   "source": [
    "This notebook demonstrates how to use the multilayer_simulator package to set up, run, and visualise a 1D optical simulation in combination with the Lumerical STACK solver and Python API.\n",
    "\n",
    "We begin by importing the relevant modules:"
   ]
  },
  {
   "cell_type": "code",
   "execution_count": null,
   "id": "f151733e-bef3-46f9-98b5-20296b8e3537",
   "metadata": {},
   "outputs": [],
   "source": [
    "import lumapi\n",
    "import numpy as np\n",
    "from multilayer_simulator import Layer, Multilayer, Simulation\n",
    "from multilayer_simulator.lumerical_classes import LumericalMaterial, LumericalOscillator, LumericalSTACK, format_STACK\n",
    "import matplotlib.pyplot as plt\n",
    "import holoviews as hv\n",
    "from holoviews import opts\n",
    "\n",
    "hv.extension('bokeh')"
   ]
  },
  {
   "cell_type": "markdown",
   "id": "58ebe862-4a66-4ad9-a630-9f2ac4501360",
   "metadata": {},
   "source": [
    "Start the Lumerical session as directed in the [lumapi documentation](https://optics.ansys.com/hc/en-us/articles/360041873053):"
   ]
  },
  {
   "cell_type": "code",
   "execution_count": null,
   "id": "3ac4b1c8-f566-4b36-a515-5fc21685d81b",
   "metadata": {},
   "outputs": [],
   "source": [
    "fdtd = lumapi.FDTD()"
   ]
  },
  {
   "cell_type": "markdown",
   "id": "61846a20-b848-4419-949d-041f0c9e7e32",
   "metadata": {},
   "source": [
    "The `simulation` object handles the running of the simulation, including run-time parameters such as frequency and angle. It needs to be provided with a `Structure` to simulate and an `Engine` to perform the simulation."
   ]
  },
  {
   "cell_type": "markdown",
   "id": "15a01e36-b2a5-4b76-9285-8ffde9d3958b",
   "metadata": {},
   "source": [
    "The simplest `Structure` is a `Layer`. It *can* be initialized by providing an appropriate index function and thickness as arguments:"
   ]
  },
  {
   "cell_type": "code",
   "execution_count": null,
   "id": "01ef6d90-d08d-4ecf-b76e-6925a5527f80",
   "metadata": {},
   "outputs": [],
   "source": [
    "def index_of_vacuum(frequencies = None, component = 1):\n",
    "    if frequencies is not None:\n",
    "        frequencies = np.atleast_1d(frequencies)\n",
    "        return np.full_like(frequencies, 1)\n",
    "    else:\n",
    "        return np.array([1])"
   ]
  },
  {
   "cell_type": "code",
   "execution_count": null,
   "id": "e4d768ee-a63b-49f5-9a24-c361e30b5b46",
   "metadata": {},
   "outputs": [],
   "source": [
    "halfspace = Layer(index_of_vacuum) # default thickness is 0"
   ]
  },
  {
   "cell_type": "markdown",
   "id": "2a40729a-c422-4c99-ba3f-4b204dbffc4d",
   "metadata": {},
   "source": [
    "However, it is recommended to instead define a `Material` which has an `index` method and use the `Layer.from_material()` constructor.\n",
    "\n",
    "We can access or define a material in the Lumerical database using the [Lumerical scripting language](https://optics.ansys.com/hc/en-us/articles/360037228834) with `lumapi`. The `LumericalMaterial` class packages the relevant script commands for us and allows us to interact with the material in the database like a `Material` object."
   ]
  },
  {
   "cell_type": "code",
   "execution_count": null,
   "id": "a164fb3e-13b3-499e-816c-0bdcf625e09a",
   "metadata": {
    "scrolled": true,
    "tags": []
   },
   "outputs": [],
   "source": [
    "glass = LumericalMaterial(session=fdtd, name=\"SiO2 (Glass) - Palik\")\n",
    "\n",
    "glass.get_property(\"all\")"
   ]
  },
  {
   "cell_type": "markdown",
   "id": "7d816515-bb99-4033-a270-8a05c88159a2",
   "metadata": {},
   "source": [
    "Now we can define a 1 micron thick layer of glass:"
   ]
  },
  {
   "cell_type": "code",
   "execution_count": null,
   "id": "b669e832-df7b-43af-8eef-56eed6b8de11",
   "metadata": {},
   "outputs": [],
   "source": [
    "glass_layer = Layer.from_material(glass, thickness=1e-6)"
   ]
  },
  {
   "cell_type": "markdown",
   "id": "9d9c7ef2-38ae-4001-81da-8454297cb0fe",
   "metadata": {},
   "source": [
    "As well as accessing existing materials in the database, we can define new ones. Here we use the `LumericalOscillator` subclass of `LumericalMaterial` to easily add a Lorentz oscillator to the material database, and construct another layer from it:"
   ]
  },
  {
   "cell_type": "code",
   "execution_count": null,
   "id": "442025f9-85b0-4ef6-9ff6-e529019585da",
   "metadata": {},
   "outputs": [],
   "source": [
    "try: # In case the material has already been defined in the database, remove it to avoid raising an error\n",
    "    oscillator\n",
    "except NameError:\n",
    "    pass\n",
    "else:\n",
    "    oscillator.delete()\n",
    "oscillator = LumericalOscillator(fdtd, name='Example Oscillator', permittivity=1, lorentz_resonance=6E14, lorentz_permittivity=1, lorentz_linewidth=1E13)\n",
    "\n",
    "excitonic_layer = Layer.from_material(oscillator, 5e-6)"
   ]
  },
  {
   "cell_type": "markdown",
   "id": "d8ebefd7-673d-4e3b-a5c1-94cb9769a04a",
   "metadata": {},
   "source": [
    "The minimal structure to coherently define an optical model is a three-layer `Multilayer`. The first and last layer define the material of the incidence and exit semi-infinite half-spaces, and usually have zero thickness. If they have a positive thickness, layers of that thickness are added to the start and end of the model (or equivalently, the transmission and reflection monitors are moved that distance out from the edges). This could be relevant for absorbing media.\n",
    "\n",
    "We can define a `Multilayer` from a list of `Layer`s."
   ]
  },
  {
   "cell_type": "code",
   "execution_count": null,
   "id": "782132bc-6245-4ee0-a797-4d5763b1a80a",
   "metadata": {},
   "outputs": [],
   "source": [
    "multilayer = Multilayer([halfspace, glass_layer, excitonic_layer, halfspace])"
   ]
  },
  {
   "cell_type": "markdown",
   "id": "afe72d58-2b57-4ec2-9a1e-b2ec7dd36cc7",
   "metadata": {},
   "source": [
    "Having defined the structure, we now need the `Engine`. The `LumericalSTACK` engine packages together the `stackrt` and `stackfield` Lumerical script commands."
   ]
  },
  {
   "cell_type": "code",
   "execution_count": null,
   "id": "8e123823-c10d-4f3a-9894-e9952a386d28",
   "metadata": {},
   "outputs": [],
   "source": [
    "engine = LumericalSTACK(fdtd)"
   ]
  },
  {
   "cell_type": "markdown",
   "id": "7824e45f-3ccd-4ad7-b4f0-414bc1ec7550",
   "metadata": {},
   "source": [
    "That's it! Now we can define and run the simulation:"
   ]
  },
  {
   "cell_type": "code",
   "execution_count": null,
   "id": "84b260e3-0fe6-41e2-8865-927f1c5e8661",
   "metadata": {
    "scrolled": true,
    "tags": []
   },
   "outputs": [],
   "source": [
    "frequencies = np.linspace(4e14, 8e14, 100)\n",
    "angles = np.arange(0, 41, 10)\n",
    "simulation = Simulation(multilayer, engine, frequencies=frequencies, angles=angles)\n",
    "simulation.simulate()"
   ]
  },
  {
   "cell_type": "markdown",
   "id": "cb335feb-e9b1-4bdd-96d2-45bcfe07e607",
   "metadata": {},
   "source": [
    "`Simulation.simulate()` can take parameters which override the attributes it was constructed with, for convenience:"
   ]
  },
  {
   "cell_type": "code",
   "execution_count": null,
   "id": "23250f65-5013-4b45-92cc-d0e71a77e160",
   "metadata": {},
   "outputs": [],
   "source": [
    "low_frequency_zero_incidence_simulation = simulation.simulate(frequencies=3e14, angles=0, keep_data=False)"
   ]
  },
  {
   "cell_type": "markdown",
   "id": "8aca6156-9ee1-4508-87b2-8a8a575c950c",
   "metadata": {},
   "source": [
    "This data can already be visualised using your preferred plotting library:"
   ]
  },
  {
   "cell_type": "code",
   "execution_count": null,
   "id": "e71d1f78-4927-4461-be4d-3bfc59dd17a2",
   "metadata": {},
   "outputs": [],
   "source": [
    "wavelengths = simulation.data[0]['lambda']\n",
    "reflectance_s = simulation.data[0]['Rs'][:,0]\n",
    "\n",
    "plt.plot(wavelengths, reflectance_s)"
   ]
  },
  {
   "cell_type": "markdown",
   "id": "f26288d1-d9d9-4b74-abe5-1b4a57411980",
   "metadata": {},
   "source": [
    "Alternatively, a `DataFormatter` can be applied to it. My preferred format is xarray, but you can write your own formatter for pandas or even dictionaries.\n",
    "\n",
    "The `DataFormatter` can not only parse the data into a particular format, it can also perform predictable data munging such as calculating absorptance or field magnitude."
   ]
  },
  {
   "cell_type": "code",
   "execution_count": null,
   "id": "0f6b621f-3d15-4a07-bb52-374009f687c5",
   "metadata": {},
   "outputs": [],
   "source": [
    "xarray_datasets = format_STACK.from_tuple(simulation.data).to_xarray_dataset(stackrt_args={'variables': ['Rs', 'Rp', 'Ts', 'Tp']})"
   ]
  },
  {
   "cell_type": "code",
   "execution_count": null,
   "id": "225deb4f-00be-4b63-ab76-ea1a84939565",
   "metadata": {},
   "outputs": [],
   "source": [
    "xarray_datasets[0]"
   ]
  },
  {
   "cell_type": "code",
   "execution_count": null,
   "id": "49e5172e-0d1c-40b5-9872-29b551bf68d7",
   "metadata": {},
   "outputs": [],
   "source": [
    "xarray_datasets[1]"
   ]
  },
  {
   "cell_type": "markdown",
   "id": "58b47e5f-b63d-4403-a10e-3c43eb1469a6",
   "metadata": {},
   "source": [
    "Formatted data can then be explored using the standard visualisation libraries. A future version of this package may include some helpful `Visualiser` classes to handle common tasks."
   ]
  },
  {
   "cell_type": "code",
   "execution_count": null,
   "id": "7a668993-2dd6-4ac3-9bf4-92f29f7e2260",
   "metadata": {},
   "outputs": [],
   "source": [
    "field_data = xarray_datasets[1]\n",
    "field_data['|Es|^2'].sel(theta=0, frequency=6e14, method='nearest').plot(x='z')\n",
    "# field_data['Es'].squeeze().sel(theta=0, frequency=6e14, method='nearest').sel(vector='j').real.plot.line(x='z')"
   ]
  },
  {
   "cell_type": "markdown",
   "id": "d64ad0dd-a66f-4e97-852b-3092d7dafe32",
   "metadata": {},
   "source": [
    "Here is a recipe for using the defined classes to dynamically explore a parameter space using Holoviews:"
   ]
  },
  {
   "cell_type": "code",
   "execution_count": null,
   "id": "737dfdb8-000d-4e9e-9605-0b474f466ea5",
   "metadata": {
    "tags": []
   },
   "outputs": [],
   "source": [
    "def data_from_params(theta, glass_thickness_microns, oscillator_resonance_terahertz):\n",
    "    glass_layer.thickness = glass_thickness_microns * 1e-6\n",
    "    oscillator.lorentz_resonance = oscillator_resonance_terahertz * 1e12\n",
    "\n",
    "    data = simulation.simulate(angles=theta, keep_data=False)\n",
    "    rt_data, field_data = format_STACK.from_tuple(data).to_xarray_dataset(\n",
    "        stackrt_args={\"variables\": [\"Rs\", \"Rp\", \"Ts\", \"Tp\"]},\n",
    "        stackfield_args={\"variables\": [\"Es\", \"Ep\"]},\n",
    "    )\n",
    "\n",
    "    return rt_data, field_data"
   ]
  },
  {
   "cell_type": "code",
   "execution_count": null,
   "id": "724fbb54-a9d8-4caa-8e30-46434d6474f0",
   "metadata": {},
   "outputs": [],
   "source": [
    "def graphs_from_data(rt_data, field_data, frequency_terahertz):\n",
    "    frequency = frequency_terahertz * 1e12\n",
    "    rt_curve_s = hv.Overlay([hv.Curve((rt_data['wavelength'], rt_data[var].squeeze()), 'Wavelength', 'Intensity', label=var) for var in ['Rs', 'Ts', 'As']])\n",
    "    rt_curve_p = hv.Overlay([hv.Curve((rt_data['wavelength'], rt_data[var].squeeze()), 'Wavelength', 'Intensity', label=var) for var in ['Rp', 'Tp', 'Ap']])\n",
    "    field_curves = hv.Layout([hv.Curve((field_data['z'], field_data.squeeze().sel(frequency=frequency, method='nearest')[var]), 'z', 'Intensity', label=var) for var in ['|Es|^2', '|Ep|^2']])\n",
    "    layout = rt_curve_s + field_curves[0] + rt_curve_p + field_curves[1]\n",
    "    return layout.cols(2)"
   ]
  },
  {
   "cell_type": "code",
   "execution_count": null,
   "id": "20911257-6871-41a0-9b15-d47c9599f35e",
   "metadata": {},
   "outputs": [],
   "source": [
    "def graphs_from_params(frequency_terahertz, theta, glass_thickness_microns, oscillator_resonance_terahertz):\n",
    "    data = data_from_params(theta, glass_thickness_microns, oscillator_resonance_terahertz)\n",
    "    graphs = graphs_from_data(*data, frequency_terahertz)\n",
    "    return graphs"
   ]
  },
  {
   "cell_type": "code",
   "execution_count": null,
   "id": "57d6e970-8d5e-4805-bb04-b3ab1aa25d51",
   "metadata": {},
   "outputs": [],
   "source": [
    "parameter_ranges = {\n",
    "    'Frequency (Terahertz)': (100, 1000),\n",
    "    'Angle (Degrees)': (0, 80),\n",
    "    'Glass Thickness (Microns)': (0.1, 10),\n",
    "    'Oscillator Resonance Frequency (Terahertz)': (100, 1000)\n",
    "}\n",
    "parameters = list(parameter_ranges.keys())\n",
    "\n",
    "hv.DynamicMap(graphs_from_params, kdims=parameters).redim.range(**parameter_ranges).opts(opts.Curve(width=500))"
   ]
  }
 ],
 "metadata": {
  "kernelspec": {
   "display_name": "Python [conda env:multilayer_simulator]",
   "language": "python",
   "name": "conda-env-multilayer_simulator-py"
  },
  "language_info": {
   "codemirror_mode": {
    "name": "ipython",
    "version": 3
   },
   "file_extension": ".py",
   "mimetype": "text/x-python",
   "name": "python",
   "nbconvert_exporter": "python",
   "pygments_lexer": "ipython3",
   "version": "3.9.13"
  }
 },
 "nbformat": 4,
 "nbformat_minor": 5
}
